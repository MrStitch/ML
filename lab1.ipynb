{
 "cells": [
  {
   "cell_type": "code",
   "execution_count": null,
   "metadata": {},
   "outputs": [],
   "source": []
  },
  {
   "cell_type": "code",
   "execution_count": 6,
   "metadata": {},
   "outputs": [
    {
     "name": "stdout",
     "output_type": "stream",
     "text": [
      "[0.0, 0.9527544408738466, 0.8644738145642124, 0.8951715163278082, 0.7770887149698589, 0.9402385695332803, 0.7327387580875756, 0.9258750683338899, 0.884272487528431, 0.9055088817476932, 0.8328165362273942, 0.8804771390665607, 0.8396432548525454, 0.8703592552895671, 0.8740118423302576, 0.9442721787424647, 0.8406361854220809, 0.956644501523794, 0.9442721787424647, 0.8885443574849294, 0.8427572744917122, 0.8250364469440586]\n"
     ]
    }
   ],
   "source": [
    "import re\n",
    "import numpy\n",
    "def cosineDistance(x, y):#Function cosine distance\n",
    "    dotProduct = 0\n",
    "    xLength = 0\n",
    "    yLength = 0\n",
    "    for i in range(len(y)): # Formula for this distance\n",
    "        dotProduct += x[i] * y[i]\n",
    "        xLength += x[i] * x[i] \n",
    "        yLength += y[i] * y[i]\n",
    "    return 1 - (dotProduct / (numpy.sqrt(xLength) * numpy.sqrt(yLength)))\n",
    "\n",
    "\n",
    "file = open(\"sentences.txt\", \"r\")\n",
    "sentences =[] # An array of sentences\n",
    "wordsList = re.split('[^a-z]', file.read().lower())\n",
    "wordsList = list(filter(None, wordsList))\n",
    "\n",
    "uniquetokens = numpy.unique(wordsList) \n",
    "unique_tokens_count = len(uniquetokens)\n",
    "indeces = list(range(0, unique_tokens_count))\n",
    "dictionary = dict(zip(indeces, uniquetokens))\n",
    "result = []\n",
    "\n",
    "file.seek(0)\n",
    "for line in file:   \n",
    "    line = re.split('[^a-z]', line.lower()) \n",
    "    line = list(filter(None, line))    \n",
    "    sentences.append(line)    \n",
    "        \n",
    "sentences_count = len(sentences)\n",
    "matrix = numpy.zeros(shape=(sentences_count, unique_tokens_count))\n",
    "\n",
    "for i in range(sentences_count):\n",
    "    for j in range (unique_tokens_count):\n",
    "        matrix[i][j] = sentences[i].count(dictionary[j])\n",
    "\n",
    "for i in range(sentences_count):\n",
    "    result.append(cosineDistance(matrix[0], matrix[i]))\n",
    "\n",
    "print(result)"
   ]
  },
  {
   "cell_type": "code",
   "execution_count": 4,
   "metadata": {},
   "outputs": [
    {
     "name": "stdout",
     "output_type": "stream",
     "text": [
      "[0. 0. 0. 0. 0. 0. 0. 0. 0. 0. 0. 0. 0. 0. 0. 0. 0. 0. 0. 0. 0. 0.]\n"
     ]
    }
   ],
   "source": []
  },
  {
   "cell_type": "code",
   "execution_count": null,
   "metadata": {},
   "outputs": [],
   "source": []
  }
 ],
 "metadata": {
  "kernelspec": {
   "display_name": "Python 3",
   "language": "python",
   "name": "python3"
  },
  "language_info": {
   "codemirror_mode": {
    "name": "ipython",
    "version": 3
   },
   "file_extension": ".py",
   "mimetype": "text/x-python",
   "name": "python",
   "nbconvert_exporter": "python",
   "pygments_lexer": "ipython3",
   "version": "3.6.5"
  }
 },
 "nbformat": 4,
 "nbformat_minor": 2
}
