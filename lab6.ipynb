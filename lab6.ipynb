{
 "cells": [
  {
   "cell_type": "code",
   "execution_count": 1,
   "metadata": {},
   "outputs": [
    {
     "data": {
      "text/plain": [
       "(150, 4)"
      ]
     },
     "execution_count": 1,
     "metadata": {},
     "output_type": "execute_result"
    }
   ],
   "source": [
    "import numpy as np\n",
    "from sklearn.datasets import load_iris\n",
    "from random import random\n",
    "import math\n",
    "import operator\n",
    "\n",
    "df = load_iris()\n",
    "df.data.shape\n"
   ]
  },
  {
   "cell_type": "code",
   "execution_count": null,
   "metadata": {},
   "outputs": [],
   "source": [
    "\n"
   ]
  },
  {
   "cell_type": "code",
   "execution_count": 4,
   "metadata": {},
   "outputs": [],
   "source": [
    "def divide_data(x):\n",
    "    for i in df.data:\n",
    "        if random() < x:\n",
    "            train_data.append(i)\n",
    "        else:\n",
    "            test_data.append(i)\n"
   ]
  },
  {
   "cell_type": "code",
   "execution_count": 5,
   "metadata": {},
   "outputs": [],
   "source": [
    "def feature_erase(k): #не использует его, потому что это бесполезно. Я все еще рассчитываю и переписываю стоимость\n",
    "    for i in test_data:\n",
    "        i[k] = None\n"
   ]
  },
  {
   "cell_type": "code",
   "execution_count": 6,
   "metadata": {},
   "outputs": [],
   "source": [
    "def distance(x, y):#Евклидово расстояние\n",
    "    dist = 0\n",
    "    for i in range(x.shape[0]):\n",
    "        dist += math.pow(x[i] - y[i], 2)\n",
    "    return math.sqrt(dist)\n"
   ]
  },
  {
   "cell_type": "code",
   "execution_count": 9,
   "metadata": {},
   "outputs": [],
   "source": [
    "def mean_sum(arr): #средняя сумма для вычисления значения после выбора k ближайших соседей\n",
    "    sum_ = 0\n",
    "    for i in arr:\n",
    "           sum_+=i[feature_val]\n",
    "    return sum_/len(arr)\n"
   ]
  },
  {
   "cell_type": "code",
   "execution_count": 10,
   "metadata": {},
   "outputs": [],
   "source": [
    "def predict(arr, k):\n",
    "    dist_arr = []\n",
    "    for i in train_data:\n",
    "        dist_arr.append((i, distance(i, arr))) #словарь для временного хранения объекта и расстояния до него\n",
    "    dist_arr.sort(key=operator.itemgetter(1))\n",
    "    nn = [] #массив ближайших соседей\n",
    "    for j in range(k):\n",
    "        nn.append(dist_arr[j][0]) \n",
    "    arr[feature_val] = mean_sum(nn) #переписать расчетное значение \n",
    "    print(arr)"
   ]
  },
  {
   "cell_type": "code",
   "execution_count": 11,
   "metadata": {},
   "outputs": [
    {
     "name": "stdout",
     "output_type": "stream",
     "text": [
      "first row - real data, second is predicted. By default predicts 1 feature of an object\n",
      "[5.4 3.9 1.7 0.4]\n",
      "[5.25714286 3.9        1.7        0.4       ]\n",
      "----------\n",
      "[5.4 3.7 1.5 0.2]\n",
      "[5.27142857 3.7        1.5        0.2       ]\n",
      "----------\n",
      "[4.8 3.  1.4 0.1]\n",
      "[4.84285714 3.         1.4        0.1       ]\n",
      "----------\n",
      "[5.1 3.5 1.4 0.3]\n",
      "[5.08571429 3.5        1.4        0.3       ]\n",
      "----------\n",
      "[5.  3.  1.6 0.2]\n",
      "[4.84285714 3.         1.6        0.2       ]\n",
      "----------\n",
      "[5.  3.4 1.6 0.4]\n",
      "[5.01428571 3.4        1.6        0.4       ]\n",
      "----------\n",
      "[5.5 3.5 1.3 0.2]\n",
      "[5.28571429 3.5        1.3        0.2       ]\n",
      "----------\n",
      "[4.6 3.2 1.4 0.2]\n",
      "[4.6 3.2 1.4 0.2]\n",
      "----------\n",
      "[6.2 2.2 4.5 1.5]\n",
      "[6.25714286 2.2        4.5        1.5       ]\n",
      "----------\n",
      "[5.7 2.6 3.5 1. ]\n",
      "[5.65714286 2.6        3.5        1.        ]\n",
      "----------\n",
      "[6.  3.4 4.5 1.6]\n",
      "[6.08571429 3.4        4.5        1.6       ]\n",
      "----------\n",
      "[5.7 2.8 4.1 1.3]\n",
      "[5.71428571 2.8        4.1        1.3       ]\n",
      "----------\n",
      "[6.5 3.  5.8 2.2]\n",
      "[6.62857143 3.         5.8        2.2       ]\n",
      "----------\n",
      "[6.8 3.  5.5 2.1]\n",
      "[6.62857143 3.         5.5        2.1       ]\n",
      "----------\n",
      "[7.2 3.2 6.  1.8]\n",
      "[7.05714286 3.2        6.         1.8       ]\n",
      "----------\n",
      "[6.9 3.1 5.4 2.1]\n",
      "[6.7 3.1 5.4 2.1]\n",
      "----------\n",
      "[5.8 2.7 5.1 1.9]\n",
      "[5.87142857 2.7        5.1        1.9       ]\n",
      "----------\n",
      "[6.7 3.3 5.7 2.5]\n",
      "[6.58571429 3.3        5.7        2.5       ]\n",
      "----------\n"
     ]
    }
   ],
   "source": [
    "train_data = []\n",
    "test_data = []\n",
    "feature_val = 0\n",
    "divide_data(0.90)\n",
    "#feature_erase(0)\n",
    "print(\"first row - real data, second is predicted. By default predicts 1 feature of an object\")\n",
    "for i in test_data:\n",
    "    print(i)\n",
    "    predict(i, 7)\n",
    "    print(\"----------\")"
   ]
  },
  {
   "cell_type": "code",
   "execution_count": null,
   "metadata": {},
   "outputs": [],
   "source": []
  },
  {
   "cell_type": "code",
   "execution_count": null,
   "metadata": {},
   "outputs": [],
   "source": []
  }
 ],
 "metadata": {
  "kernelspec": {
   "display_name": "Python 3",
   "language": "python",
   "name": "python3"
  },
  "language_info": {
   "codemirror_mode": {
    "name": "ipython",
    "version": 3
   },
   "file_extension": ".py",
   "mimetype": "text/x-python",
   "name": "python",
   "nbconvert_exporter": "python",
   "pygments_lexer": "ipython3",
   "version": "3.6.5"
  }
 },
 "nbformat": 4,
 "nbformat_minor": 2
}
